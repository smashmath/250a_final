{
 "cells": [
  {
   "cell_type": "markdown",
   "metadata": {},
   "source": [
    "# Import Required Libraries\n",
    "Import numpy, matplotlib.pyplot, solve_ivp from scipy.integrate, and interact and FloatSlider from ipywidgets."
   ]
  },
  {
   "cell_type": "code",
   "execution_count": 70,
   "metadata": {},
   "outputs": [],
   "source": [
    "# Import Required Libraries\n",
    "import numpy as np\n",
    "import matplotlib.pyplot as plt\n",
    "from scipy.integrate import solve_ivp\n",
    "from ipywidgets import interact, FloatSlider, Button, HBox, VBox\n",
    "import mplcursors\n",
    "from functools import partial\n",
    "from matplotlib.lines import Line2D\n",
    "\n",
    "# plots in dark mode\n",
    "#plt.style.use('dark_background')"
   ]
  },
  {
   "cell_type": "markdown",
   "metadata": {},
   "source": [
    "# Define the Conformity Function\n",
    "Define the function f(x, alpha) that models the conformity behavior."
   ]
  },
  {
   "cell_type": "code",
   "execution_count": 71,
   "metadata": {},
   "outputs": [],
   "source": [
    "# Define the Conformity Function\n",
    "def f(x, alpha):\n",
    "    if x <= 0.5:\n",
    "        return (((2 * max(x, 0)) ** (alpha)) / 2)\n",
    "    else:\n",
    "        return (1 - ((2 * max(1 - x, 0)) ** (alpha)) / 2)\n",
    "\n",
    "# Vectorize f(x) for plotting\n",
    "f_vec = np.vectorize(f)"
   ]
  },
  {
   "cell_type": "markdown",
   "metadata": {},
   "source": [
    "# Define the Dynamical System\n",
    "Define the function dynamics(t, y, s, m, alpha) that models the dynamical system."
   ]
  },
  {
   "cell_type": "code",
   "execution_count": 72,
   "metadata": {},
   "outputs": [],
   "source": [
    "# Define the Dynamical System\n",
    "def dynamics(t, y, s, m, alpha):\n",
    "    x_i, x_s = y\n",
    "    x = (1 - s) * x_i + s * x_s\n",
    "    dx_i_dt = m - x_i\n",
    "    dx_s_dt = f(x, alpha) - x_s\n",
    "    return [dx_i_dt, dx_s_dt]"
   ]
  },
  {
   "cell_type": "markdown",
   "metadata": {},
   "source": [
    "# Plot Function with Interactive Sliders\n",
    "Define the function plot_system $(s, m, \\alpha, x_{i0}, x_{s0})$ and use interact to create interactive sliders for the parameters."
   ]
  },
  {
   "cell_type": "code",
   "execution_count": 73,
   "metadata": {},
   "outputs": [
    {
     "data": {
      "application/vnd.jupyter.widget-view+json": {
       "model_id": "7a76fb51d2734ad89e6d81ed6f338245",
       "version_major": 2,
       "version_minor": 0
      },
      "text/plain": [
       "interactive(children=(FloatSlider(value=0.96, description='s', max=1.0, step=0.01), FloatSlider(value=0.35, de…"
      ]
     },
     "metadata": {},
     "output_type": "display_data"
    },
    {
     "data": {
      "application/vnd.jupyter.widget-view+json": {
       "model_id": "5237051468b245fc92f0b84a3b8db527",
       "version_major": 2,
       "version_minor": 0
      },
      "text/plain": [
       "VBox(children=(FloatSlider(value=0.96, description='s', max=1.0, step=0.01), FloatSlider(value=0.35, descripti…"
      ]
     },
     "metadata": {},
     "output_type": "display_data"
    },
    {
     "data": {
      "text/plain": [
       "<function __main__.plot_system(s, m, alpha, x_i0, x_s0, save=False)>"
      ]
     },
     "metadata": {},
     "output_type": "display_data"
    }
   ],
   "source": [
    "# Plot Function with Interactive Sliders\n",
    "def plot_f_and_x(s, m, alpha, t, x_t):\n",
    "    # we create a subplot with 2 columns and 1 row\n",
    "    fig, axs = plt.subplots(1, 2, figsize=(15, 6))\n",
    "    # we plot f(x) in the first subplot\n",
    "    x_vals = np.linspace(0, 1, 300)\n",
    "    f_vals = f_vec(x_vals, alpha)\n",
    "    axs[0].plot(x_vals, f_vals, 'c-', label='f(x)')\n",
    "    axs[0].set_xlabel('x')\n",
    "    axs[0].set_ylabel('f(x)')\n",
    "    axs[0].set_title('Conformity Function f(x) for alpha={:.1f}'.format(alpha))\n",
    "    axs[0].grid()\n",
    "    axs[0].legend()\n",
    "    # we plot x(t) in the second subplot\n",
    "    # Plot x(t) = (1-s)x_i(t) + s x_s(t) over time\n",
    "    axs[1].plot(t, x_t, label='x(t) = (1-s)x_i(t) + s x_s(t)', color='orange')\n",
    "    axs[1].set_xlabel('Time')\n",
    "    axs[1].set_ylabel('x(t)')\n",
    "    axs[1].set_title('Trajectory of x(t) over time')\n",
    "    axs[1].axhline(y=0.5, color='r', linestyle='--', label='x=0.5')\n",
    "    axs[1].axhline(y=m, color='g', linestyle='--', label='x=m')\n",
    "    axs[1].set_ylim(0, 1)\n",
    "    axs[1].grid()\n",
    "    axs[1].legend()\n",
    "    \n",
    "    # Connect click event\n",
    "    plt.show()\n",
    "    \n",
    "def plot_system(s, m, alpha, x_i0, x_s0, save=False):\n",
    "    t_final = 999\n",
    "    t_span = (0, t_final)\n",
    "    y0 = [x_i0, x_s0]\n",
    "    sol = solve_ivp(dynamics, t_span, y0, args=(s, m, alpha), dense_output=True)\n",
    "    t = np.linspace(t_span[0], t_span[1], 300)\n",
    "    x_i, x_s = sol.sol(t)\n",
    "    x_t = (1 - s) * x_i + s * x_s\n",
    "\n",
    "    plt.figure(figsize=(10, 6))\n",
    "    plt.plot([m, m], [0, 1], 'r--', label='x_i nullcline (x_i = m)')\n",
    "    x_s_vals = np.linspace(0, 1, 300)\n",
    "    x_i_vals = np.linspace(0, 1, 300)\n",
    "    X_i, X_s = np.meshgrid(x_i_vals, x_s_vals)\n",
    "    X = (1-s)*X_i + s*X_s\n",
    "    F_X_vals = f_vec(X, alpha)\n",
    "    contour = plt.contour(X_i, X_s, F_X_vals - X_s, levels=[0], colors='lightblue', linestyles='dashed')\n",
    "    \n",
    "    # Trajectory and initial point\n",
    "    plt.plot(x_i, x_s, 'g-', label='Trajectory')\n",
    "    plt.scatter([x_i0], [x_s0], color='purple', label='Initial Point')\n",
    "    # put text on the initial point\n",
    "    x_initial = (1 - s) * x_i0 + s * x_s0\n",
    "    plt.text(x_i0, x_s0, f'(x_i(0)={x_i0:.2f}, x_s(0)={x_s0:.2f})\\n x(0)={x_initial:.2f}', fontsize=12, ha='right', va='bottom')\n",
    "    \n",
    "    # plot terminal point (t=t_final)\n",
    "    x_terminal = (1 - s) * x_i[-1] + s * x_s[-1]\n",
    "    plt.text(x_i[-1], x_s[-1], f'(x_i*={x_i[-1]:.2f}, x_s*={x_s[-1]:.2f})\\n x*={x_terminal:.2f}', fontsize=12, ha='right', va='bottom')\n",
    "    plt.scatter([x_i[-1]], [x_s[-1]], color='blue', label='Terminal Point')\n",
    "    \n",
    "    plt.scatter([m], [m], color='orange', label='Optimal Point (m, m)')\n",
    "    plt.xlabel('x_i (Individual Learners)')\n",
    "    plt.ylabel('x_s (Social Learners)')\n",
    "    plt.title(f'Plot (s={s}, m={m}, alpha={alpha:.1f}): x* = {x_terminal:.2f}')\n",
    "\n",
    "    # Create a proxy artist for the contour plot\n",
    "    proxy = Line2D([0], [0], linestyle='dashed', color='lightblue')\n",
    "\n",
    "    # Combine the handles and labels for the legend\n",
    "    handles, labels = plt.gca().get_legend_handles_labels()\n",
    "    handles = [proxy] + handles  # Add the proxy artist at the beginning\n",
    "    labels = ['x_s nullcline (f(x) = x_s)'] + labels  # Add corresponding label at the beginning\n",
    "\n",
    "    # Create a single legend\n",
    "    plt.legend(handles=handles, labels=labels, loc='lower right')\n",
    "    plt.grid()\n",
    "    \n",
    "    if save:\n",
    "        filename = f'plot_s_{s}_m_{m}_alpha_{alpha:.1f}_xi0_{x_i0}_xs0_{x_s0}.png'\n",
    "        plt.savefig(filename)\n",
    "        print(f\"Plot saved as {filename}\")\n",
    "    \n",
    "    plt.show()\n",
    "    plot_f_and_x(s, m, alpha, t, x_t)\n",
    "\n",
    "def save_plot_callback(s, m, alpha, x_i0, x_s0):\n",
    "    plot_system(s, m, alpha, x_i0, x_s0, save=True)\n",
    "\n",
    "# Interactive sliders\n",
    "s_slider = FloatSlider(value=0.96, min=0, max=1, step=0.01, description='s')\n",
    "m_slider = FloatSlider(value=0.35, min=0, max=1, step=0.01, description='m')\n",
    "alpha_slider = FloatSlider(value=1.1, min=0.0, max=3, step=0.1, description='alpha')\n",
    "x_i0_slider = FloatSlider(value=0.45, min=0, max=1, step=0.01, description='x_i(0)')\n",
    "x_s0_slider = FloatSlider(value=0.67, min=0, max=1, step=0.01, description='x_s(0)')\n",
    "\n",
    "# Save button\n",
    "save_button = Button(description=\"Save Plot\")\n",
    "save_button.on_click(lambda b: save_plot_callback(s_slider.value, m_slider.value, alpha_slider.value, x_i0_slider.value, x_s0_slider.value))\n",
    "\n",
    "# Display sliders and button\n",
    "ui = VBox([s_slider, m_slider, alpha_slider, x_i0_slider, x_s0_slider, save_button])\n",
    "out = interact(plot_system, s=s_slider, m=m_slider, alpha=alpha_slider, x_i0=x_i0_slider, x_s0=x_s0_slider)\n",
    "display(ui, out)"
   ]
  }
 ],
 "metadata": {
  "kernelspec": {
   "display_name": "Python 3",
   "language": "python",
   "name": "python3"
  },
  "language_info": {
   "codemirror_mode": {
    "name": "ipython",
    "version": 3
   },
   "file_extension": ".py",
   "mimetype": "text/x-python",
   "name": "python",
   "nbconvert_exporter": "python",
   "pygments_lexer": "ipython3",
   "version": "3.11.8"
  }
 },
 "nbformat": 4,
 "nbformat_minor": 2
}

{
 "cells": [
  {
   "cell_type": "markdown",
   "metadata": {},
   "source": [
    "# Import Required Libraries\n",
    "Import numpy, matplotlib.pyplot, solve_ivp from scipy.integrate, and interact and FloatSlider from ipywidgets."
   ]
  },
  {
   "cell_type": "code",
   "execution_count": 21,
   "metadata": {},
   "outputs": [],
   "source": [
    "# Import Required Libraries\n",
    "import numpy as np\n",
    "import matplotlib.pyplot as plt\n",
    "from scipy.integrate import solve_ivp\n",
    "from ipywidgets import interact, FloatSlider\n",
    "import mplcursors\n",
    "\n",
    "# plots in dark mode\n",
    "#plt.style.use('dark_background')"
   ]
  },
  {
   "cell_type": "markdown",
   "metadata": {},
   "source": [
    "# Define the Conformity Function\n",
    "Define the function f(x, alpha) that models the conformity behavior."
   ]
  },
  {
   "cell_type": "code",
   "execution_count": 22,
   "metadata": {},
   "outputs": [],
   "source": [
    "# Define the Conformity Function\n",
    "def f(x, alpha):\n",
    "    if x <= 0.5:\n",
    "        return (((2 * max(x, 0)) ** (alpha)) / 2)\n",
    "    else:\n",
    "        return (1 - ((2 * max(1 - x, 0)) ** (alpha)) / 2)\n",
    "\n",
    "# Vectorize f(x) for plotting\n",
    "f_vec = np.vectorize(f)"
   ]
  },
  {
   "cell_type": "markdown",
   "metadata": {},
   "source": [
    "# Define the Dynamical System\n",
    "Define the function dynamics(t, y, s, m, alpha) that models the dynamical system."
   ]
  },
  {
   "cell_type": "code",
   "execution_count": 23,
   "metadata": {},
   "outputs": [],
   "source": [
    "# Define the Dynamical System\n",
    "def dynamics(t, y, s, m, alpha):\n",
    "    x_i, x_s = y\n",
    "    x = (1 - s) * x_i + s * x_s\n",
    "    dx_i_dt = m - x_i\n",
    "    dx_s_dt = f(x, alpha) - x_s\n",
    "    return [dx_i_dt, dx_s_dt]"
   ]
  },
  {
   "cell_type": "markdown",
   "metadata": {},
   "source": [
    "# Plot Function with Interactive Sliders\n",
    "Define the function plot_system $(s, m, \\alpha, x_{i0}, x_{s0})$ and use interact to create interactive sliders for the parameters."
   ]
  },
  {
   "cell_type": "code",
   "execution_count": null,
   "metadata": {},
   "outputs": [
    {
     "data": {
      "application/vnd.jupyter.widget-view+json": {
       "model_id": "939d77cf885e4c669be35beb2e2f283c",
       "version_major": 2,
       "version_minor": 0
      },
      "text/plain": [
       "interactive(children=(FloatSlider(value=0.8, description='s', max=1.0, step=0.01), FloatSlider(value=0.4, desc…"
      ]
     },
     "metadata": {},
     "output_type": "display_data"
    },
    {
     "data": {
      "text/plain": [
       "<function __main__.plot_system(s, m, alpha, x_i0, x_s0)>"
      ]
     },
     "execution_count": 24,
     "metadata": {},
     "output_type": "execute_result"
    }
   ],
   "source": [
    "t_final = 999\n",
    "\n",
    "# Click event to update the initial point\n",
    "def on_click(event):\n",
    "    global initial_point\n",
    "    if event.inaxes is not None:\n",
    "        initial_point = [event.xdata, event.ydata]\n",
    "        plot_system(s_slider.value, m_slider.value, alpha_slider.value, initial_point[0], initial_point[1])\n",
    "\n",
    "def plot_f_and_x(s, m, alpha, t, x_t):\n",
    "    # we create a subplot with 2 columns and 1 row\n",
    "    fig, axs = plt.subplots(1, 2, figsize=(15, 6))\n",
    "    # we plot f(x) in the first subplot\n",
    "    x_vals = np.linspace(0, 1, 300)\n",
    "    f_vals = f_vec(x_vals, alpha)\n",
    "    axs[0].plot(x_vals, f_vals, 'c-', label='f(x)')\n",
    "    axs[0].set_xlabel('x')\n",
    "    axs[0].set_ylabel('f(x)')\n",
    "    axs[0].set_title('Conformity Function f(x) for alpha={:.1f}'.format(alpha))\n",
    "    axs[0].grid()\n",
    "    axs[0].legend()\n",
    "    # we plot x(t) in the second subplot\n",
    "    # Plot x(t) = (1-s)x_i(t) + s x_s(t) over time\n",
    "    axs[1].plot(t, x_t, label='x(t) = (1-s)x_i(t) + s x_s(t)', color='orange')\n",
    "    axs[1].set_xlabel('Time')\n",
    "    axs[1].set_ylabel('x(t)')\n",
    "    axs[1].set_title('Trajectory of x(t) over time')\n",
    "    axs[1].axhline(y=0.5, color='r', linestyle='--', label='x=0.5')\n",
    "    axs[1].axhline(y=m, color='g', linestyle='--', label='x=m')\n",
    "    axs[1].set_ylim(0, 1)\n",
    "    axs[1].grid()\n",
    "    axs[1].legend()\n",
    "    \n",
    "    # Connect click event\n",
    "    plt.gcf().canvas.mpl_connect('button_press_event', on_click)\n",
    "    plt.show()\n",
    "\n",
    "# Plot Function with Interactive Sliders\n",
    "def plot_system(s, m, alpha, x_i0, x_s0):\n",
    "    \n",
    "    # Plot nullclines\n",
    "    plt.figure(figsize=(10, 6))\n",
    "    plt.plot([m, m], [0, 1], 'r--', label='x_i nullcline (x_i = m)')\n",
    "    # plot x_s nullcline: x_s = f((1-s)x_i+sx_s)\n",
    "    # Grid for nullclines\n",
    "    x_s_vals = np.linspace(0, 1, 300)\n",
    "    x_i_vals = np.linspace(0, 1, 300)\n",
    "    X_i, X_s = np.meshgrid(x_i_vals, x_s_vals)\n",
    "    X = (1-s)*X_i + s*X_s\n",
    "    F_X_vals = f_vec(X, alpha)\n",
    "    plt.contour(X_i, X_s, F_X_vals - X_s, levels=[0], colors='lightblue', linestyles='dashed')\n",
    "    # add label 'x_s nullcline' to legend\n",
    "    \n",
    "\n",
    "    # Simulate trajectories\n",
    "    t_span = (0, t_final)\n",
    "    y0 = [x_i0, x_s0]\n",
    "    sol = solve_ivp(dynamics, t_span, y0, args=(s, m, alpha), dense_output=True)\n",
    "    t = np.linspace(t_span[0], t_span[1], 300)\n",
    "    x_i, x_s = sol.sol(t)\n",
    "    x_t = (1 - s) * x_i + s * x_s\n",
    "\n",
    "    # Plot trajectories\n",
    "    plt.plot(x_i, x_s, 'g-', label='Trajectory')\n",
    "    plt.scatter([x_i0], [x_s0], color='purple', label='Initial Point')\n",
    "    # put text on the initial point\n",
    "    x_initial = (1 - s) * x_i0 + s * x_s0\n",
    "    plt.text(x_i0, x_s0, f'(x_i(0)={x_i0:.2f}, x_s(0)={x_s0:.2f})\\n x(0)={x_initial:.2f}', fontsize=12, ha='right', va='bottom')\n",
    "    \n",
    "    # plot terminal point (t=t_final)\n",
    "    plt.scatter([x_i[-1]], [x_s[-1]], color='black', label='Terminal Point (t=t_final)')\n",
    "    # label the terminal point\n",
    "    # display x(t_final)=(1-s)x_i(t_final)+sx_s(t_final)\n",
    "    x_terminal = (1 - s) * x_i[-1] + s * x_s[-1]\n",
    "    plt.text(x_i[-1], x_s[-1], f'(x_i*={x_i[-1]:.2f}, x_s*={x_s[-1]:.2f})\\n x*={x_terminal:.2f}', fontsize=12, ha='right', va='bottom')\n",
    "    \n",
    "    #plt.text(0.5, 0.5, f'x(t_final) = {x_terminal:.2f}', fontsize=12, ha='center', va='center')\n",
    "    \n",
    "    # plot y=x dashed line\n",
    "    #plt.plot([0, 1], [0, 1], 'y--', label='x_i = x_s')\n",
    "    # plot x_optimal point = (m,m)\n",
    "    plt.scatter([m], [m], color='orange', label='Optimal Point (m, m)')\n",
    "    \n",
    "    # Labels and legend\n",
    "    plt.xlabel('x_i (Individual Learners)')\n",
    "    plt.ylabel('x_s (Social Learners)')\n",
    "    plt.title(f'Plot (s={s}, m={m}, alpha={alpha:.1f}): x* = {x_terminal:.2f}')\n",
    "    # put legend on bottom right\n",
    "    plt.legend(loc='lower right')\n",
    "    #plt.legend()\n",
    "    plt.grid()\n",
    "    plt.show()\n",
    "    plot_f_and_x(s, m, alpha, t, x_t)\n",
    "\n",
    "# Interactive sliders\n",
    "interact(\n",
    "    plot_system,\n",
    "    s=FloatSlider(value=0.8, min=0, max=1, step=0.01, description='s'),\n",
    "    m=FloatSlider(value=0.4, min=0, max=1, step=0.01, description='m'),\n",
    "    alpha=FloatSlider(value=1.6, min=0.0, max=3, step=0.1, description='alpha'),\n",
    "    x_i0=FloatSlider(value=0.8, min=0, max=1, step=0.01, description='x_i(0)'),\n",
    "    x_s0=FloatSlider(value=0.55, min=0, max=1, step=0.01, description='x_s(0)'),\n",
    ")\n",
    "# with these values, x_s(0)=0.55 and 0.54 give completely different results"
   ]
  }
 ],
 "metadata": {
  "kernelspec": {
   "display_name": "Python 3",
   "language": "python",
   "name": "python3"
  },
  "language_info": {
   "codemirror_mode": {
    "name": "ipython",
    "version": 3
   },
   "file_extension": ".py",
   "mimetype": "text/x-python",
   "name": "python",
   "nbconvert_exporter": "python",
   "pygments_lexer": "ipython3",
   "version": "3.11.8"
  }
 },
 "nbformat": 4,
 "nbformat_minor": 2
}
